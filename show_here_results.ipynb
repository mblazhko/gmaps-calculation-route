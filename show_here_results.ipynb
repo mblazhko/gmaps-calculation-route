{
 "cells": [
  {
   "cell_type": "code",
   "execution_count": 1,
   "id": "initial_id",
   "metadata": {
    "collapsed": true,
    "ExecuteTime": {
     "end_time": "2024-02-13T09:45:39.669108700Z",
     "start_time": "2024-02-13T09:45:38.807924400Z"
    }
   },
   "outputs": [
    {
     "name": "stderr",
     "output_type": "stream",
     "text": [
      "C:\\Users\\makss\\AppData\\Local\\Temp\\ipykernel_23976\\3984325375.py:1: DeprecationWarning: \n",
      "Pyarrow will become a required dependency of pandas in the next major release of pandas (pandas 3.0),\n",
      "(to allow more performant data types, such as the Arrow string type, and better interoperability with other libraries)\n",
      "but was not found to be installed on your system.\n",
      "If this would cause problems for you,\n",
      "please provide us feedback at https://github.com/pandas-dev/pandas/issues/54466\n",
      "        \n",
      "  import pandas as pd\n"
     ]
    }
   ],
   "source": [
    "import pandas as pd\n",
    "import os"
   ]
  },
  {
   "cell_type": "code",
   "outputs": [],
   "source": [
    "results_path = os.path.join(\"tests\", \"here_results.json\")"
   ],
   "metadata": {
    "collapsed": false,
    "ExecuteTime": {
     "end_time": "2024-02-13T09:45:55.672506Z",
     "start_time": "2024-02-13T09:45:55.661577300Z"
    }
   },
   "id": "19b1bae642fa4388",
   "execution_count": 2
  },
  {
   "cell_type": "code",
   "outputs": [
    {
     "data": {
      "text/plain": "    total_calculation_time    distance     duration  \\\n0                 3.477529  2860.26 km   31.8 hours   \n1                 2.219923  2124.16 km  21.56 hours   \n2                 3.090884   707.41 km   7.23 hours   \n3                 3.439116   809.53 km   8.57 hours   \n4                 2.596448    586.2 km   6.17 hours   \n5                 2.282009   546.46 km   5.64 hours   \n6                 2.352301   728.35 km   7.77 hours   \n7                 2.494168  1617.59 km  16.88 hours   \n8                 2.709978  1098.67 km  11.34 hours   \n9                 2.485995   4301.1 km  43.17 hours   \n10                5.803661   1289.8 km  12.77 hours   \n11                2.705402  5090.55 km  50.97 hours   \n\n                       start_address          end_address  \n0                     Kotka, Finland        Torino, Italy  \n1                      Dijon, France    Plovdiv, Bulgaria  \n2                  Freiburg, Germany        Torino, Italy  \n3                    Singen, Germany        Torino, Italy  \n4                    Singen, Germany       Annecy, France  \n5                      Novara, Italy     Besancon, France  \n6                    Chamber, France   Innsbruck, Austria  \n7   Sarajevo, Bosnia and Herzegovina     Besancon, France  \n8                    Munich, Germany    Marseille, France  \n9                   Tallinn, Estonia     Lisbon, Portugal  \n10            Amsterdam, Netherlands        Milano, Italy  \n11                     Malaga, Spain  Saariselka, Finland  ",
      "text/html": "<div>\n<style scoped>\n    .dataframe tbody tr th:only-of-type {\n        vertical-align: middle;\n    }\n\n    .dataframe tbody tr th {\n        vertical-align: top;\n    }\n\n    .dataframe thead th {\n        text-align: right;\n    }\n</style>\n<table border=\"1\" class=\"dataframe\">\n  <thead>\n    <tr style=\"text-align: right;\">\n      <th></th>\n      <th>total_calculation_time</th>\n      <th>distance</th>\n      <th>duration</th>\n      <th>start_address</th>\n      <th>end_address</th>\n    </tr>\n  </thead>\n  <tbody>\n    <tr>\n      <th>0</th>\n      <td>3.477529</td>\n      <td>2860.26 km</td>\n      <td>31.8 hours</td>\n      <td>Kotka, Finland</td>\n      <td>Torino, Italy</td>\n    </tr>\n    <tr>\n      <th>1</th>\n      <td>2.219923</td>\n      <td>2124.16 km</td>\n      <td>21.56 hours</td>\n      <td>Dijon, France</td>\n      <td>Plovdiv, Bulgaria</td>\n    </tr>\n    <tr>\n      <th>2</th>\n      <td>3.090884</td>\n      <td>707.41 km</td>\n      <td>7.23 hours</td>\n      <td>Freiburg, Germany</td>\n      <td>Torino, Italy</td>\n    </tr>\n    <tr>\n      <th>3</th>\n      <td>3.439116</td>\n      <td>809.53 km</td>\n      <td>8.57 hours</td>\n      <td>Singen, Germany</td>\n      <td>Torino, Italy</td>\n    </tr>\n    <tr>\n      <th>4</th>\n      <td>2.596448</td>\n      <td>586.2 km</td>\n      <td>6.17 hours</td>\n      <td>Singen, Germany</td>\n      <td>Annecy, France</td>\n    </tr>\n    <tr>\n      <th>5</th>\n      <td>2.282009</td>\n      <td>546.46 km</td>\n      <td>5.64 hours</td>\n      <td>Novara, Italy</td>\n      <td>Besancon, France</td>\n    </tr>\n    <tr>\n      <th>6</th>\n      <td>2.352301</td>\n      <td>728.35 km</td>\n      <td>7.77 hours</td>\n      <td>Chamber, France</td>\n      <td>Innsbruck, Austria</td>\n    </tr>\n    <tr>\n      <th>7</th>\n      <td>2.494168</td>\n      <td>1617.59 km</td>\n      <td>16.88 hours</td>\n      <td>Sarajevo, Bosnia and Herzegovina</td>\n      <td>Besancon, France</td>\n    </tr>\n    <tr>\n      <th>8</th>\n      <td>2.709978</td>\n      <td>1098.67 km</td>\n      <td>11.34 hours</td>\n      <td>Munich, Germany</td>\n      <td>Marseille, France</td>\n    </tr>\n    <tr>\n      <th>9</th>\n      <td>2.485995</td>\n      <td>4301.1 km</td>\n      <td>43.17 hours</td>\n      <td>Tallinn, Estonia</td>\n      <td>Lisbon, Portugal</td>\n    </tr>\n    <tr>\n      <th>10</th>\n      <td>5.803661</td>\n      <td>1289.8 km</td>\n      <td>12.77 hours</td>\n      <td>Amsterdam, Netherlands</td>\n      <td>Milano, Italy</td>\n    </tr>\n    <tr>\n      <th>11</th>\n      <td>2.705402</td>\n      <td>5090.55 km</td>\n      <td>50.97 hours</td>\n      <td>Malaga, Spain</td>\n      <td>Saariselka, Finland</td>\n    </tr>\n  </tbody>\n</table>\n</div>"
     },
     "execution_count": 3,
     "metadata": {},
     "output_type": "execute_result"
    }
   ],
   "source": [
    "df = pd.read_json(results_path)\n",
    "df = df[[\"total_calculation_time\", \"distance\", \"duration\", \"start_address\", \"end_address\"]]\n",
    "df"
   ],
   "metadata": {
    "collapsed": false,
    "ExecuteTime": {
     "end_time": "2024-02-13T09:46:09.845807900Z",
     "start_time": "2024-02-13T09:46:09.756871200Z"
    }
   },
   "id": "ae15c5a3ca33ed3d",
   "execution_count": 3
  },
  {
   "cell_type": "code",
   "outputs": [],
   "source": [],
   "metadata": {
    "collapsed": false
   },
   "id": "9ffde7f84812e9b"
  }
 ],
 "metadata": {
  "kernelspec": {
   "display_name": "Python 3",
   "language": "python",
   "name": "python3"
  },
  "language_info": {
   "codemirror_mode": {
    "name": "ipython",
    "version": 2
   },
   "file_extension": ".py",
   "mimetype": "text/x-python",
   "name": "python",
   "nbconvert_exporter": "python",
   "pygments_lexer": "ipython2",
   "version": "2.7.6"
  }
 },
 "nbformat": 4,
 "nbformat_minor": 5
}
