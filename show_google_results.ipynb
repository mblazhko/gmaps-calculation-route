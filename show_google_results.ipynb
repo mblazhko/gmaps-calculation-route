{
 "cells": [
  {
   "cell_type": "code",
   "execution_count": 24,
   "id": "initial_id",
   "metadata": {
    "collapsed": true,
    "ExecuteTime": {
     "end_time": "2024-02-08T15:34:33.764488700Z",
     "start_time": "2024-02-08T15:34:33.744785700Z"
    }
   },
   "outputs": [],
   "source": [
    "import pandas as pd\n",
    "import os"
   ]
  },
  {
   "cell_type": "code",
   "outputs": [],
   "source": [
    "results_path = os.path.join(\"tests\", \"google_results.json\")"
   ],
   "metadata": {
    "collapsed": false,
    "ExecuteTime": {
     "end_time": "2024-02-08T15:34:34.492691800Z",
     "start_time": "2024-02-08T15:34:34.480374700Z"
    }
   },
   "id": "8ef72ca84ebe0994",
   "execution_count": 25
  },
  {
   "cell_type": "code",
   "outputs": [
    {
     "name": "stderr",
     "output_type": "stream",
     "text": [
      "C:\\Users\\makss\\AppData\\Local\\Temp\\ipykernel_13744\\2162870074.py:7: FutureWarning: ChainedAssignmentError: behaviour will change in pandas 3.0!\n",
      "You are setting values through chained assignment. Currently this works in certain cases, but when using Copy-on-Write (which will become the default behaviour in pandas 3.0) this will never work to update the original DataFrame or Series, because the intermediate object on which we are setting values will behave as a copy.\n",
      "A typical example is when you are setting values in a column of a DataFrame, like:\n",
      "\n",
      "df[\"col\"][row_indexer] = value\n",
      "\n",
      "Use `df.loc[row_indexer, \"col\"] = values` instead, to perform the assignment in a single step and ensure this keeps updating the original `df`.\n",
      "\n",
      "See the caveats in the documentation: https://pandas.pydata.org/pandas-docs/stable/user_guide/indexing.html#returning-a-view-versus-a-copy\n",
      "\n",
      "  clear_df[\"total_requests\"].iloc[[0]] = df[\"total_requests\"].iloc[[0]]\n",
      "C:\\Users\\makss\\AppData\\Local\\Temp\\ipykernel_13744\\2162870074.py:7: SettingWithCopyWarning: \n",
      "A value is trying to be set on a copy of a slice from a DataFrame\n",
      "\n",
      "See the caveats in the documentation: https://pandas.pydata.org/pandas-docs/stable/user_guide/indexing.html#returning-a-view-versus-a-copy\n",
      "  clear_df[\"total_requests\"].iloc[[0]] = df[\"total_requests\"].iloc[[0]]\n"
     ]
    }
   ],
   "source": [
    "from numpy import int8\n",
    "\n",
    "df = pd.read_json(results_path)\n",
    "df = df[[\"total_calculation_time\", \"total_requests\", \"distance\", \"duration\", \"start_address\", \"end_address\", \"polyline\"]]\n",
    "clear_df = df.copy()\n",
    "clear_df[\"total_requests\"] = clear_df[\"total_requests\"].diff()\n",
    "clear_df[\"total_requests\"].iloc[[0]] = df[\"total_requests\"].iloc[[0]]\n",
    "clear_df[\"total_requests\"] = clear_df[\"total_requests\"].astype(int8)\n",
    "clear_df"
   ],
   "metadata": {
    "collapsed": false,
    "ExecuteTime": {
     "end_time": "2024-02-08T15:35:13.684412Z",
     "start_time": "2024-02-08T15:35:13.632019900Z"
    }
   },
   "id": "d812a5f9731315f2",
   "execution_count": 28
  }
 ],
 "metadata": {
  "kernelspec": {
   "display_name": "Python 3",
   "language": "python",
   "name": "python3"
  },
  "language_info": {
   "codemirror_mode": {
    "name": "ipython",
    "version": 2
   },
   "file_extension": ".py",
   "mimetype": "text/x-python",
   "name": "python",
   "nbconvert_exporter": "python",
   "pygments_lexer": "ipython2",
   "version": "2.7.6"
  }
 },
 "nbformat": 4,
 "nbformat_minor": 5
}
