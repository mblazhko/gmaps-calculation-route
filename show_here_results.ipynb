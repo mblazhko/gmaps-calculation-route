{
 "cells": [
  {
   "cell_type": "code",
   "execution_count": 1,
   "id": "initial_id",
   "metadata": {
    "collapsed": true,
    "ExecuteTime": {
     "end_time": "2024-02-09T16:25:06.969401200Z",
     "start_time": "2024-02-09T16:25:06.411624800Z"
    }
   },
   "outputs": [
    {
     "name": "stderr",
     "output_type": "stream",
     "text": [
      "C:\\Users\\makss\\AppData\\Local\\Temp\\ipykernel_20016\\3984325375.py:1: DeprecationWarning: \n",
      "Pyarrow will become a required dependency of pandas in the next major release of pandas (pandas 3.0),\n",
      "(to allow more performant data types, such as the Arrow string type, and better interoperability with other libraries)\n",
      "but was not found to be installed on your system.\n",
      "If this would cause problems for you,\n",
      "please provide us feedback at https://github.com/pandas-dev/pandas/issues/54466\n",
      "        \n",
      "  import pandas as pd\n"
     ]
    }
   ],
   "source": [
    "import pandas as pd\n",
    "import os"
   ]
  },
  {
   "cell_type": "code",
   "outputs": [],
   "source": [
    "results_path = os.path.join(\"tests\", \"here_results.json\")"
   ],
   "metadata": {
    "collapsed": false,
    "ExecuteTime": {
     "end_time": "2024-02-09T16:25:22.757622Z",
     "start_time": "2024-02-09T16:25:22.755620900Z"
    }
   },
   "id": "19b1bae642fa4388",
   "execution_count": 2
  },
  {
   "cell_type": "code",
   "outputs": [
    {
     "data": {
      "text/plain": "    total_calculation_time    distance     duration          start_address  \\\n0                 4.400056  4313.31 km  41.95 hours  60.4507899,26.7458599   \n1                 0.595411  2134.46 km  20.94 hours   47.3318302,4.9909476   \n2                 1.124093   701.12 km   6.63 hours   47.9874693,7.7138243   \n3                 1.534926   814.08 km   8.05 hours   47.7571307,8.7853336   \n4                 1.039947    589.0 km   5.82 hours   47.7571307,8.7853336   \n5                 0.420419   535.18 km    5.3 hours   45.4532099,8.5744099   \n6                 0.691737   678.46 km   7.13 hours   47.2545399,4.6940599   \n7                 0.564722  1483.21 km  15.73 hours       43.8833,18.32258   \n8                 0.811531  1087.73 km  10.59 hours    48.1481899,11.39123   \n9                 0.990650  4311.73 km  41.84 hours  59.4600299,24.5702299   \n10                2.112279  1288.67 km  12.03 hours   52.3546623,4.8216032   \n11                1.026375  5245.68 km  49.87 hours    36.7657799,-4.59474   \n\n              end_address                                           polyline  \n0    45.0736294,7.5932027  BGs-zpzDogugzB4DrJ0FrJ8B7QA_JUzekDvgBgFzjB4Dzo...  \n1   42.1438099,24.6566301  BGs_8o6Co-zwJ4IzX0PvvBsJ7V0F_J0KrOkIvHkI7G0KrJ...  \n2    45.0736294,7.5932027  BG6w9w7Cgi62OxjBzdzK7GjIjD7GTzFUzF8B_EwC3IoGzK...  \n3    45.0736294,7.5932027  BG207i7Cs7m4Q1FwN3DgKrE8GrE0F7GsE7GsE_EsE7BvMn...  \n4        45.88983,6.08738  BG207i7Cs7m4Q1FwN3DgKrE8GrE0F7GsE7GsE_EsE7BvMn...  \n5      47.26006,5.9300299  BG05n22C08qrQwCjXwCjXoBvMkDzZUnGoGr2BoBvMkDzjB...  \n6       47.27382,11.25362  BG4gmk6C4iw-IgF4Dge0ZkI0FoG8B8VkIoa0P0K0F0U4Dw...  \n7      47.26006,5.9300299  BGoyt2zCopq-iBUjI7BvM3DjI8Q3SgK3N0K3S8B7G8GsOk...  \n8        43.33005,5.20862  BG8t367C8vo3VnGTnG8B7G4D7LwH7QgK_JgFvHwCrJ8B3h...  \n9      38.7441999,-9.2009  BG87ktxDs307uB7GrJvCoB7B8BjNwR7LkXvCwHrE0ZAwM8...  \n10   45.4627899,9.0946199  BGsmv7jDmmpmJkG6d_EkD_d8Q_OkI3NwHnVoLrOwHzKoGj...  \n11    68.42548,27.4121499  BGolgkmCnju4IvHnBjS3DnGTvRTjIAnVoBjIT7GnBrE7Bj...  ",
      "text/html": "<div>\n<style scoped>\n    .dataframe tbody tr th:only-of-type {\n        vertical-align: middle;\n    }\n\n    .dataframe tbody tr th {\n        vertical-align: top;\n    }\n\n    .dataframe thead th {\n        text-align: right;\n    }\n</style>\n<table border=\"1\" class=\"dataframe\">\n  <thead>\n    <tr style=\"text-align: right;\">\n      <th></th>\n      <th>total_calculation_time</th>\n      <th>distance</th>\n      <th>duration</th>\n      <th>start_address</th>\n      <th>end_address</th>\n      <th>polyline</th>\n    </tr>\n  </thead>\n  <tbody>\n    <tr>\n      <th>0</th>\n      <td>4.400056</td>\n      <td>4313.31 km</td>\n      <td>41.95 hours</td>\n      <td>60.4507899,26.7458599</td>\n      <td>45.0736294,7.5932027</td>\n      <td>BGs-zpzDogugzB4DrJ0FrJ8B7QA_JUzekDvgBgFzjB4Dzo...</td>\n    </tr>\n    <tr>\n      <th>1</th>\n      <td>0.595411</td>\n      <td>2134.46 km</td>\n      <td>20.94 hours</td>\n      <td>47.3318302,4.9909476</td>\n      <td>42.1438099,24.6566301</td>\n      <td>BGs_8o6Co-zwJ4IzX0PvvBsJ7V0F_J0KrOkIvHkI7G0KrJ...</td>\n    </tr>\n    <tr>\n      <th>2</th>\n      <td>1.124093</td>\n      <td>701.12 km</td>\n      <td>6.63 hours</td>\n      <td>47.9874693,7.7138243</td>\n      <td>45.0736294,7.5932027</td>\n      <td>BG6w9w7Cgi62OxjBzdzK7GjIjD7GTzFUzF8B_EwC3IoGzK...</td>\n    </tr>\n    <tr>\n      <th>3</th>\n      <td>1.534926</td>\n      <td>814.08 km</td>\n      <td>8.05 hours</td>\n      <td>47.7571307,8.7853336</td>\n      <td>45.0736294,7.5932027</td>\n      <td>BG207i7Cs7m4Q1FwN3DgKrE8GrE0F7GsE7GsE_EsE7BvMn...</td>\n    </tr>\n    <tr>\n      <th>4</th>\n      <td>1.039947</td>\n      <td>589.0 km</td>\n      <td>5.82 hours</td>\n      <td>47.7571307,8.7853336</td>\n      <td>45.88983,6.08738</td>\n      <td>BG207i7Cs7m4Q1FwN3DgKrE8GrE0F7GsE7GsE_EsE7BvMn...</td>\n    </tr>\n    <tr>\n      <th>5</th>\n      <td>0.420419</td>\n      <td>535.18 km</td>\n      <td>5.3 hours</td>\n      <td>45.4532099,8.5744099</td>\n      <td>47.26006,5.9300299</td>\n      <td>BG05n22C08qrQwCjXwCjXoBvMkDzZUnGoGr2BoBvMkDzjB...</td>\n    </tr>\n    <tr>\n      <th>6</th>\n      <td>0.691737</td>\n      <td>678.46 km</td>\n      <td>7.13 hours</td>\n      <td>47.2545399,4.6940599</td>\n      <td>47.27382,11.25362</td>\n      <td>BG4gmk6C4iw-IgF4Dge0ZkI0FoG8B8VkIoa0P0K0F0U4Dw...</td>\n    </tr>\n    <tr>\n      <th>7</th>\n      <td>0.564722</td>\n      <td>1483.21 km</td>\n      <td>15.73 hours</td>\n      <td>43.8833,18.32258</td>\n      <td>47.26006,5.9300299</td>\n      <td>BGoyt2zCopq-iBUjI7BvM3DjI8Q3SgK3N0K3S8B7G8GsOk...</td>\n    </tr>\n    <tr>\n      <th>8</th>\n      <td>0.811531</td>\n      <td>1087.73 km</td>\n      <td>10.59 hours</td>\n      <td>48.1481899,11.39123</td>\n      <td>43.33005,5.20862</td>\n      <td>BG8t367C8vo3VnGTnG8B7G4D7LwH7QgK_JgFvHwCrJ8B3h...</td>\n    </tr>\n    <tr>\n      <th>9</th>\n      <td>0.990650</td>\n      <td>4311.73 km</td>\n      <td>41.84 hours</td>\n      <td>59.4600299,24.5702299</td>\n      <td>38.7441999,-9.2009</td>\n      <td>BG87ktxDs307uB7GrJvCoB7B8BjNwR7LkXvCwHrE0ZAwM8...</td>\n    </tr>\n    <tr>\n      <th>10</th>\n      <td>2.112279</td>\n      <td>1288.67 km</td>\n      <td>12.03 hours</td>\n      <td>52.3546623,4.8216032</td>\n      <td>45.4627899,9.0946199</td>\n      <td>BGsmv7jDmmpmJkG6d_EkD_d8Q_OkI3NwHnVoLrOwHzKoGj...</td>\n    </tr>\n    <tr>\n      <th>11</th>\n      <td>1.026375</td>\n      <td>5245.68 km</td>\n      <td>49.87 hours</td>\n      <td>36.7657799,-4.59474</td>\n      <td>68.42548,27.4121499</td>\n      <td>BGolgkmCnju4IvHnBjS3DnGTvRTjIAnVoBjIT7GnBrE7Bj...</td>\n    </tr>\n  </tbody>\n</table>\n</div>"
     },
     "execution_count": 3,
     "metadata": {},
     "output_type": "execute_result"
    }
   ],
   "source": [
    "df = pd.read_json(results_path)\n",
    "df = df[[\"total_calculation_time\", \"distance\", \"duration\", \"start_address\", \"end_address\", \"polyline\"]]\n",
    "df"
   ],
   "metadata": {
    "collapsed": false,
    "ExecuteTime": {
     "end_time": "2024-02-09T16:27:04.305954400Z",
     "start_time": "2024-02-09T16:27:04.129712600Z"
    }
   },
   "id": "ae15c5a3ca33ed3d",
   "execution_count": 3
  },
  {
   "cell_type": "code",
   "outputs": [],
   "source": [],
   "metadata": {
    "collapsed": false
   },
   "id": "9ffde7f84812e9b"
  }
 ],
 "metadata": {
  "kernelspec": {
   "display_name": "Python 3",
   "language": "python",
   "name": "python3"
  },
  "language_info": {
   "codemirror_mode": {
    "name": "ipython",
    "version": 2
   },
   "file_extension": ".py",
   "mimetype": "text/x-python",
   "name": "python",
   "nbconvert_exporter": "python",
   "pygments_lexer": "ipython2",
   "version": "2.7.6"
  }
 },
 "nbformat": 4,
 "nbformat_minor": 5
}
