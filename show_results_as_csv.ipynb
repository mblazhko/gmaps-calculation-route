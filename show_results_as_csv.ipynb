{
 "cells": [
  {
   "cell_type": "code",
   "execution_count": 1,
   "id": "initial_id",
   "metadata": {
    "collapsed": true,
    "ExecuteTime": {
     "end_time": "2024-02-07T12:47:10.744350900Z",
     "start_time": "2024-02-07T12:47:10.086143900Z"
    }
   },
   "outputs": [
    {
     "name": "stderr",
     "output_type": "stream",
     "text": [
      "C:\\Users\\makss\\AppData\\Local\\Temp\\ipykernel_28340\\3984325375.py:1: DeprecationWarning: \n",
      "Pyarrow will become a required dependency of pandas in the next major release of pandas (pandas 3.0),\n",
      "(to allow more performant data types, such as the Arrow string type, and better interoperability with other libraries)\n",
      "but was not found to be installed on your system.\n",
      "If this would cause problems for you,\n",
      "please provide us feedback at https://github.com/pandas-dev/pandas/issues/54466\n",
      "        \n",
      "  import pandas as pd\n"
     ]
    }
   ],
   "source": [
    "import pandas as pd\n",
    "import os"
   ]
  },
  {
   "cell_type": "code",
   "outputs": [],
   "source": [
    "results_path = os.path.join(\"tests\", \"results.json\")"
   ],
   "metadata": {
    "collapsed": false,
    "ExecuteTime": {
     "end_time": "2024-02-07T12:47:10.837169Z",
     "start_time": "2024-02-07T12:47:10.745352100Z"
    }
   },
   "id": "8ef72ca84ebe0994",
   "execution_count": 2
  },
  {
   "cell_type": "code",
   "outputs": [
    {
     "name": "stderr",
     "output_type": "stream",
     "text": [
      "C:\\Users\\makss\\AppData\\Local\\Temp\\ipykernel_28340\\1506447686.py:7: FutureWarning: ChainedAssignmentError: behaviour will change in pandas 3.0!\n",
      "You are setting values through chained assignment. Currently this works in certain cases, but when using Copy-on-Write (which will become the default behaviour in pandas 3.0) this will never work to update the original DataFrame or Series, because the intermediate object on which we are setting values will behave as a copy.\n",
      "A typical example is when you are setting values in a column of a DataFrame, like:\n",
      "\n",
      "df[\"col\"][row_indexer] = value\n",
      "\n",
      "Use `df.loc[row_indexer, \"col\"] = values` instead, to perform the assignment in a single step and ensure this keeps updating the original `df`.\n",
      "\n",
      "See the caveats in the documentation: https://pandas.pydata.org/pandas-docs/stable/user_guide/indexing.html#returning-a-view-versus-a-copy\n",
      "\n",
      "  clear_df[\"total_requests\"].iloc[[0]] = df[\"total_requests\"].iloc[[0]]\n",
      "C:\\Users\\makss\\AppData\\Local\\Temp\\ipykernel_28340\\1506447686.py:7: SettingWithCopyWarning: \n",
      "A value is trying to be set on a copy of a slice from a DataFrame\n",
      "\n",
      "See the caveats in the documentation: https://pandas.pydata.org/pandas-docs/stable/user_guide/indexing.html#returning-a-view-versus-a-copy\n",
      "  clear_df[\"total_requests\"].iloc[[0]] = df[\"total_requests\"].iloc[[0]]\n"
     ]
    },
    {
     "data": {
      "text/plain": "    total_calculation_time  total_requests  distance          duration  \\\n0                 1.513021               1    851 km   8 hours 45 mins   \n1                 0.236398               2    769 km   9 hours 33 mins   \n2                 1.492891               1  1,322 km  13 hours 22 mins   \n3                 1.306600               1  2,132 km     1 day 2 hours   \n4                 2.046990               1  3,359 km    1 day 10 hours   \n5                 1.799269               1  2,841 km     1 day 9 hours   \n6                 2.263697               1  2,781 km     1 day 4 hours   \n7                 2.290987               1  2,705 km     1 day 3 hours   \n8                 3.219559               1  2,027 km  20 hours 12 mins   \n9                 1.663060               1  2,771 km     1 day 4 hours   \n10                1.476036               1  1,142 km  12 hours 32 mins   \n11                1.561232               1  1,080 km  11 hours 26 mins   \n12                1.577489               1  1,081 km  11 hours 11 mins   \n13                2.333944               1  2,213 km  22 hours 18 mins   \n14                1.524683               1  1,248 km  12 hours 54 mins   \n15                1.541859               1  2,506 km     1 day 2 hours   \n16                1.563484               1  1,479 km   15 hours 4 mins   \n17                3.400221               1  1,584 km  15 hours 55 mins   \n18                2.216636               1  2,579 km     1 day 4 hours   \n19                1.812024               1  2,111 km  23 hours 11 mins   \n\n                                     start_address  \\\n0                                    Paris, France   \n1                 79 Freiburg im Breisgau, Germany   \n2                                    Paris, France   \n3                                Helsinki, Finland   \n4                                    Madrid, Spain   \n5   Rome, Metropolitan City of Rome Capital, Italy   \n6                                  Berlin, Germany   \n7                                  Prague, Czechia   \n8                                   Warsaw, Poland   \n9                                   Athens, Greece   \n10        Milan, Metropolitan City of Milan, Italy   \n11                             21000 Dijon, France   \n12                                    Lyon, France   \n13                            Bratislava, Slovakia   \n14                             Ljubljana, Slovenia   \n15                                   Madrid, Spain   \n16                               Budapest, Hungary   \n17                                   Madrid, Spain   \n18                                    Oslo, Norway   \n19                               Stockholm, Sweden   \n\n                                      end_address  \\\n0        Milan, Metropolitan City of Milan, Italy   \n1        Milan, Metropolitan City of Milan, Italy   \n2                            Bratislava, Slovakia   \n3                             Ljubljana, Slovenia   \n4   Vilnius, Vilnius City Municipality, Lithuania   \n5                               Helsinki, Finland   \n6                                Lisbon, Portugal   \n7                                Lisbon, Portugal   \n8                               Marseille, France   \n9                               Brussels, Belgium   \n10                                Berlin, Germany   \n11                                Vienna, Austria   \n12                                Prague, Czechia   \n13                                Valencia, Spain   \n14                                  Paris, France   \n15                            Copenhagen, Denmark   \n16                                  Paris, France   \n17               79 Freiburg im Breisgau, Germany   \n18                               Barcelona, Spain   \n19                                   Lyon, France   \n\n                                             polyline  \n0   ameiHomjMliDouEbv@hv@lf@fiCt_BjjAhwBgOjpEndCz_...  \n1   {y}cH_qzn@na@rw@tVuvA`QuhCjwAqjLlRksFz`AkuA|~A...  \n2   ameiHomjMliDouEbpAibJuuBg_Ul`@qvf@uk@azIcqCyzD...  \n3   u|fnJiwewCtaAdhBpNmErLpBvL~MruAfeA|r`AzpLhh]dx...  \n4   {ztuFborUneDk`AesM{dDocMw~IgpYv@}jGouEgiIttDoh...  \n5   ycw~F}ugkAkoOi}A_|T_rLiiVs_BqbTbqUseUtcKiaOdw\\...  \n6   ayp_I{cypAraB|bW~mOrtOrcOr~JjbF~cMp^ztVatG~}e@...  \n7   ekspH}zbwAxn@laSfmMn{`@n_Spbk@rxXhrz@bjGjna@~j...  \n8   __x}Hsqg_C|rBtwKt~Dv{Ewp@tlHmd@tmHxtD~mOdhL~|`...  \n9   {uyfFchyoCuxDdw@k~I}sGskIw`M{pLidB}jF|iH{~EvlP...  \n10  }zntGaxaw@_|HugM_eBo|@kh@gcF_wDu~FubE{v^amG_uS...  \n11  cxy_Hkrw]tPqaA~oBq~AdwBi|GzoBwpOnlDahLzrIofLdl...  \n12  whivG{lo\\vv@b@z\\v`AaaBhaDonAzoBqsAoGqjHfrDwcF|...  \n13  k~zdHkllgB`yD~uDxnHggArmAxpPtfEztJxSvdRgzCzeRo...  \n14  }nbxGwcpwAcuDj|DejAnfAwqBadAk~Gcr@k~Dxq@agEdlH...  \n15  {ztuFborUneDk`AuoBqxDobJtRgbHy{@g`D}aHmdJeuDyj...  \n16  k~{`HsyesBf`DvtBp}BtaQs`GvwSshB`sd@tcAniFmOjxF...  \n17  {ztuFborUr|@brBzgBosDuoBqxDobJtRgbHy{@g`D}aHmd...  \n18  a}tlJ{bs`AfjFxuo@vsGf`Nb}A`jT~hFb|FnmHj~J~bC_i...  \n19  mwbiJm}gmBkNbuHx`DdXjzG~jWthNflo@fvIzc@vqGjyF|...  ",
      "text/html": "<div>\n<style scoped>\n    .dataframe tbody tr th:only-of-type {\n        vertical-align: middle;\n    }\n\n    .dataframe tbody tr th {\n        vertical-align: top;\n    }\n\n    .dataframe thead th {\n        text-align: right;\n    }\n</style>\n<table border=\"1\" class=\"dataframe\">\n  <thead>\n    <tr style=\"text-align: right;\">\n      <th></th>\n      <th>total_calculation_time</th>\n      <th>total_requests</th>\n      <th>distance</th>\n      <th>duration</th>\n      <th>start_address</th>\n      <th>end_address</th>\n      <th>polyline</th>\n    </tr>\n  </thead>\n  <tbody>\n    <tr>\n      <th>0</th>\n      <td>1.513021</td>\n      <td>1</td>\n      <td>851 km</td>\n      <td>8 hours 45 mins</td>\n      <td>Paris, France</td>\n      <td>Milan, Metropolitan City of Milan, Italy</td>\n      <td>ameiHomjMliDouEbv@hv@lf@fiCt_BjjAhwBgOjpEndCz_...</td>\n    </tr>\n    <tr>\n      <th>1</th>\n      <td>0.236398</td>\n      <td>2</td>\n      <td>769 km</td>\n      <td>9 hours 33 mins</td>\n      <td>79 Freiburg im Breisgau, Germany</td>\n      <td>Milan, Metropolitan City of Milan, Italy</td>\n      <td>{y}cH_qzn@na@rw@tVuvA`QuhCjwAqjLlRksFz`AkuA|~A...</td>\n    </tr>\n    <tr>\n      <th>2</th>\n      <td>1.492891</td>\n      <td>1</td>\n      <td>1,322 km</td>\n      <td>13 hours 22 mins</td>\n      <td>Paris, France</td>\n      <td>Bratislava, Slovakia</td>\n      <td>ameiHomjMliDouEbpAibJuuBg_Ul`@qvf@uk@azIcqCyzD...</td>\n    </tr>\n    <tr>\n      <th>3</th>\n      <td>1.306600</td>\n      <td>1</td>\n      <td>2,132 km</td>\n      <td>1 day 2 hours</td>\n      <td>Helsinki, Finland</td>\n      <td>Ljubljana, Slovenia</td>\n      <td>u|fnJiwewCtaAdhBpNmErLpBvL~MruAfeA|r`AzpLhh]dx...</td>\n    </tr>\n    <tr>\n      <th>4</th>\n      <td>2.046990</td>\n      <td>1</td>\n      <td>3,359 km</td>\n      <td>1 day 10 hours</td>\n      <td>Madrid, Spain</td>\n      <td>Vilnius, Vilnius City Municipality, Lithuania</td>\n      <td>{ztuFborUneDk`AesM{dDocMw~IgpYv@}jGouEgiIttDoh...</td>\n    </tr>\n    <tr>\n      <th>5</th>\n      <td>1.799269</td>\n      <td>1</td>\n      <td>2,841 km</td>\n      <td>1 day 9 hours</td>\n      <td>Rome, Metropolitan City of Rome Capital, Italy</td>\n      <td>Helsinki, Finland</td>\n      <td>ycw~F}ugkAkoOi}A_|T_rLiiVs_BqbTbqUseUtcKiaOdw\\...</td>\n    </tr>\n    <tr>\n      <th>6</th>\n      <td>2.263697</td>\n      <td>1</td>\n      <td>2,781 km</td>\n      <td>1 day 4 hours</td>\n      <td>Berlin, Germany</td>\n      <td>Lisbon, Portugal</td>\n      <td>ayp_I{cypAraB|bW~mOrtOrcOr~JjbF~cMp^ztVatG~}e@...</td>\n    </tr>\n    <tr>\n      <th>7</th>\n      <td>2.290987</td>\n      <td>1</td>\n      <td>2,705 km</td>\n      <td>1 day 3 hours</td>\n      <td>Prague, Czechia</td>\n      <td>Lisbon, Portugal</td>\n      <td>ekspH}zbwAxn@laSfmMn{`@n_Spbk@rxXhrz@bjGjna@~j...</td>\n    </tr>\n    <tr>\n      <th>8</th>\n      <td>3.219559</td>\n      <td>1</td>\n      <td>2,027 km</td>\n      <td>20 hours 12 mins</td>\n      <td>Warsaw, Poland</td>\n      <td>Marseille, France</td>\n      <td>__x}Hsqg_C|rBtwKt~Dv{Ewp@tlHmd@tmHxtD~mOdhL~|`...</td>\n    </tr>\n    <tr>\n      <th>9</th>\n      <td>1.663060</td>\n      <td>1</td>\n      <td>2,771 km</td>\n      <td>1 day 4 hours</td>\n      <td>Athens, Greece</td>\n      <td>Brussels, Belgium</td>\n      <td>{uyfFchyoCuxDdw@k~I}sGskIw`M{pLidB}jF|iH{~EvlP...</td>\n    </tr>\n    <tr>\n      <th>10</th>\n      <td>1.476036</td>\n      <td>1</td>\n      <td>1,142 km</td>\n      <td>12 hours 32 mins</td>\n      <td>Milan, Metropolitan City of Milan, Italy</td>\n      <td>Berlin, Germany</td>\n      <td>}zntGaxaw@_|HugM_eBo|@kh@gcF_wDu~FubE{v^amG_uS...</td>\n    </tr>\n    <tr>\n      <th>11</th>\n      <td>1.561232</td>\n      <td>1</td>\n      <td>1,080 km</td>\n      <td>11 hours 26 mins</td>\n      <td>21000 Dijon, France</td>\n      <td>Vienna, Austria</td>\n      <td>cxy_Hkrw]tPqaA~oBq~AdwBi|GzoBwpOnlDahLzrIofLdl...</td>\n    </tr>\n    <tr>\n      <th>12</th>\n      <td>1.577489</td>\n      <td>1</td>\n      <td>1,081 km</td>\n      <td>11 hours 11 mins</td>\n      <td>Lyon, France</td>\n      <td>Prague, Czechia</td>\n      <td>whivG{lo\\vv@b@z\\v`AaaBhaDonAzoBqsAoGqjHfrDwcF|...</td>\n    </tr>\n    <tr>\n      <th>13</th>\n      <td>2.333944</td>\n      <td>1</td>\n      <td>2,213 km</td>\n      <td>22 hours 18 mins</td>\n      <td>Bratislava, Slovakia</td>\n      <td>Valencia, Spain</td>\n      <td>k~zdHkllgB`yD~uDxnHggArmAxpPtfEztJxSvdRgzCzeRo...</td>\n    </tr>\n    <tr>\n      <th>14</th>\n      <td>1.524683</td>\n      <td>1</td>\n      <td>1,248 km</td>\n      <td>12 hours 54 mins</td>\n      <td>Ljubljana, Slovenia</td>\n      <td>Paris, France</td>\n      <td>}nbxGwcpwAcuDj|DejAnfAwqBadAk~Gcr@k~Dxq@agEdlH...</td>\n    </tr>\n    <tr>\n      <th>15</th>\n      <td>1.541859</td>\n      <td>1</td>\n      <td>2,506 km</td>\n      <td>1 day 2 hours</td>\n      <td>Madrid, Spain</td>\n      <td>Copenhagen, Denmark</td>\n      <td>{ztuFborUneDk`AuoBqxDobJtRgbHy{@g`D}aHmdJeuDyj...</td>\n    </tr>\n    <tr>\n      <th>16</th>\n      <td>1.563484</td>\n      <td>1</td>\n      <td>1,479 km</td>\n      <td>15 hours 4 mins</td>\n      <td>Budapest, Hungary</td>\n      <td>Paris, France</td>\n      <td>k~{`HsyesBf`DvtBp}BtaQs`GvwSshB`sd@tcAniFmOjxF...</td>\n    </tr>\n    <tr>\n      <th>17</th>\n      <td>3.400221</td>\n      <td>1</td>\n      <td>1,584 km</td>\n      <td>15 hours 55 mins</td>\n      <td>Madrid, Spain</td>\n      <td>79 Freiburg im Breisgau, Germany</td>\n      <td>{ztuFborUr|@brBzgBosDuoBqxDobJtRgbHy{@g`D}aHmd...</td>\n    </tr>\n    <tr>\n      <th>18</th>\n      <td>2.216636</td>\n      <td>1</td>\n      <td>2,579 km</td>\n      <td>1 day 4 hours</td>\n      <td>Oslo, Norway</td>\n      <td>Barcelona, Spain</td>\n      <td>a}tlJ{bs`AfjFxuo@vsGf`Nb}A`jT~hFb|FnmHj~J~bC_i...</td>\n    </tr>\n    <tr>\n      <th>19</th>\n      <td>1.812024</td>\n      <td>1</td>\n      <td>2,111 km</td>\n      <td>23 hours 11 mins</td>\n      <td>Stockholm, Sweden</td>\n      <td>Lyon, France</td>\n      <td>mwbiJm}gmBkNbuHx`DdXjzG~jWthNflo@fvIzc@vqGjyF|...</td>\n    </tr>\n  </tbody>\n</table>\n</div>"
     },
     "execution_count": 15,
     "metadata": {},
     "output_type": "execute_result"
    }
   ],
   "source": [
    "from numpy import int8\n",
    "\n",
    "df = pd.read_json(results_path)\n",
    "df = df[[\"total_calculation_time\", \"total_requests\", \"distance\", \"duration\", \"start_address\", \"end_address\", \"polyline\"]]\n",
    "clear_df = df.copy()\n",
    "clear_df[\"total_requests\"] = clear_df[\"total_requests\"].diff()\n",
    "clear_df[\"total_requests\"].iloc[[0]] = df[\"total_requests\"].iloc[[0]]\n",
    "clear_df[\"total_requests\"] = clear_df[\"total_requests\"].astype(int8)\n",
    "clear_df"
   ],
   "metadata": {
    "collapsed": false,
    "ExecuteTime": {
     "end_time": "2024-02-07T13:02:10.175386400Z",
     "start_time": "2024-02-07T13:02:10.139765500Z"
    }
   },
   "id": "d812a5f9731315f2",
   "execution_count": 15
  },
  {
   "cell_type": "code",
   "outputs": [],
   "source": [],
   "metadata": {
    "collapsed": false
   },
   "id": "fa633b8dea9b7569"
  }
 ],
 "metadata": {
  "kernelspec": {
   "display_name": "Python 3",
   "language": "python",
   "name": "python3"
  },
  "language_info": {
   "codemirror_mode": {
    "name": "ipython",
    "version": 2
   },
   "file_extension": ".py",
   "mimetype": "text/x-python",
   "name": "python",
   "nbconvert_exporter": "python",
   "pygments_lexer": "ipython2",
   "version": "2.7.6"
  }
 },
 "nbformat": 4,
 "nbformat_minor": 5
}
