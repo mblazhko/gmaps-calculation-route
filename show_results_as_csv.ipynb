{
 "cells": [
  {
   "cell_type": "code",
   "execution_count": 1,
   "id": "initial_id",
   "metadata": {
    "collapsed": true,
    "ExecuteTime": {
     "end_time": "2024-02-08T08:42:36.112343800Z",
     "start_time": "2024-02-08T08:42:35.178588100Z"
    }
   },
   "outputs": [
    {
     "name": "stderr",
     "output_type": "stream",
     "text": [
      "C:\\Users\\makss\\AppData\\Local\\Temp\\ipykernel_3540\\3984325375.py:1: DeprecationWarning: \n",
      "Pyarrow will become a required dependency of pandas in the next major release of pandas (pandas 3.0),\n",
      "(to allow more performant data types, such as the Arrow string type, and better interoperability with other libraries)\n",
      "but was not found to be installed on your system.\n",
      "If this would cause problems for you,\n",
      "please provide us feedback at https://github.com/pandas-dev/pandas/issues/54466\n",
      "        \n",
      "  import pandas as pd\n"
     ]
    }
   ],
   "source": [
    "import pandas as pd\n",
    "import os"
   ]
  },
  {
   "cell_type": "code",
   "outputs": [],
   "source": [
    "results_path = os.path.join(\"tests\", \"results.json\")"
   ],
   "metadata": {
    "collapsed": false,
    "ExecuteTime": {
     "end_time": "2024-02-08T08:43:11.990252300Z",
     "start_time": "2024-02-08T08:43:11.980721300Z"
    }
   },
   "id": "8ef72ca84ebe0994",
   "execution_count": 2
  },
  {
   "cell_type": "code",
   "outputs": [
    {
     "name": "stderr",
     "output_type": "stream",
     "text": [
      "C:\\Users\\makss\\AppData\\Local\\Temp\\ipykernel_3540\\1506447686.py:7: FutureWarning: ChainedAssignmentError: behaviour will change in pandas 3.0!\n",
      "You are setting values through chained assignment. Currently this works in certain cases, but when using Copy-on-Write (which will become the default behaviour in pandas 3.0) this will never work to update the original DataFrame or Series, because the intermediate object on which we are setting values will behave as a copy.\n",
      "A typical example is when you are setting values in a column of a DataFrame, like:\n",
      "\n",
      "df[\"col\"][row_indexer] = value\n",
      "\n",
      "Use `df.loc[row_indexer, \"col\"] = values` instead, to perform the assignment in a single step and ensure this keeps updating the original `df`.\n",
      "\n",
      "See the caveats in the documentation: https://pandas.pydata.org/pandas-docs/stable/user_guide/indexing.html#returning-a-view-versus-a-copy\n",
      "\n",
      "  clear_df[\"total_requests\"].iloc[[0]] = df[\"total_requests\"].iloc[[0]]\n",
      "C:\\Users\\makss\\AppData\\Local\\Temp\\ipykernel_3540\\1506447686.py:7: SettingWithCopyWarning: \n",
      "A value is trying to be set on a copy of a slice from a DataFrame\n",
      "\n",
      "See the caveats in the documentation: https://pandas.pydata.org/pandas-docs/stable/user_guide/indexing.html#returning-a-view-versus-a-copy\n",
      "  clear_df[\"total_requests\"].iloc[[0]] = df[\"total_requests\"].iloc[[0]]\n"
     ]
    },
    {
     "data": {
      "text/plain": "    total_calculation_time  total_requests  distance          duration  \\\n0                 2.609336               1  2,856 km    1 day 10 hours   \n1                 1.508990               1  2,133 km  21 hours 16 mins   \n2                 0.177672               2    909 km  10 hours 49 mins   \n3                 0.150106               2    821 km   9 hours 32 mins   \n4                 0.177851               2    641 km    7 hours 5 mins   \n5                 1.137354               1    522 km   5 hours 57 mins   \n6                 1.435634               1  1,063 km  11 hours 24 mins   \n7                 0.282136               2  1,670 km  17 hours 36 mins   \n8                 1.659750               1  1,158 km  11 hours 35 mins   \n9                 2.563380               1  4,307 km    1 day 21 hours   \n10                0.218716               2  1,323 km  14 hours 48 mins   \n11                3.300613               1  5,068 km    2 days 6 hours   \n\n                              start_address  \\\n0                            Kotka, Finland   \n1                       21000 Dijon, France   \n2          79 Freiburg im Breisgau, Germany   \n3                     78224 Singen, Germany   \n4                     78224 Singen, Germany   \n5   28100 Novara, Province of Novara, Italy   \n6                                    France   \n7          Sarajevo, Bosnia and Herzegovina   \n8                           Munich, Germany   \n9                          Tallinn, Estonia   \n10                   Amsterdam, Netherlands   \n11                            Málaga, Spain   \n\n                                 end_address  \\\n0   Turin, Metropolitan City of Turin, Italy   \n1                          Plovdiv, Bulgaria   \n2   Turin, Metropolitan City of Turin, Italy   \n3   Turin, Metropolitan City of Turin, Italy   \n4                             Annecy, France   \n5                     25000 Besançon, France   \n6                         Innsbruck, Austria   \n7                     25000 Besançon, France   \n8                          Marseille, France   \n9                           Lisbon, Portugal   \n10  Milan, Metropolitan City of Milan, Italy   \n11                 99830 Saariselkä, Finland   \n\n                                             polyline  \n0   g{`pJwzmcDkrF|gHfTddc@xlG~hhBmtE`pm@b|K|`b@baR...  \n1   cxy_Hkrw]zyFm~Lj}Gyy\\zrIofLjtKyuJ~yVqwS~oQcoN`...  \n2   {y}cH_qzn@na@rw@tVuvA`QuhCjwAqjLlRksFz`AkuA|~A...  \n3   qtobHmd}t@}w@`b@oTgSsFzt@maAoN{lAaeB_hAmeCgvAo...  \n4   qtobHmd}t@}w@`b@oTgSsFzt@maAoN{lAaeB_m@gv@kq@r...  \n5   _jktGo_ss@Kal@_Wj]_HlImHhTeXbj@dAdR|Ydl@s~AvqA...  \n6   avcyGg}oLmTanAbHow@~oCqAjn@uGjAqiAslCarGkoDauI...  \n7   yttjG}hkoBanGj_Jwt@|gEonGlsLoaEhmCslAdcGwyBvaI...  \n8   ilxdHgcueA{mCaiCyzCdSgeFs|D{v@nhG~f@lkLhoB~sMk...  \n9   iwwiJsvavCvwP`yX|~ZpfWbdYjaHzc}@pmDb`\\}jPp_Na{...  \n10  q`s~H{y|\\jvBi|BnPgpEvbDmpXhyAwmMvgFuyFnoEgjEpd...  \n11  }bc_F~h~YeeUd}Du~`@gxJgj]yrk@wfDsjw@ufIa_j@_}d...  ",
      "text/html": "<div>\n<style scoped>\n    .dataframe tbody tr th:only-of-type {\n        vertical-align: middle;\n    }\n\n    .dataframe tbody tr th {\n        vertical-align: top;\n    }\n\n    .dataframe thead th {\n        text-align: right;\n    }\n</style>\n<table border=\"1\" class=\"dataframe\">\n  <thead>\n    <tr style=\"text-align: right;\">\n      <th></th>\n      <th>total_calculation_time</th>\n      <th>total_requests</th>\n      <th>distance</th>\n      <th>duration</th>\n      <th>start_address</th>\n      <th>end_address</th>\n      <th>polyline</th>\n    </tr>\n  </thead>\n  <tbody>\n    <tr>\n      <th>0</th>\n      <td>2.609336</td>\n      <td>1</td>\n      <td>2,856 km</td>\n      <td>1 day 10 hours</td>\n      <td>Kotka, Finland</td>\n      <td>Turin, Metropolitan City of Turin, Italy</td>\n      <td>g{`pJwzmcDkrF|gHfTddc@xlG~hhBmtE`pm@b|K|`b@baR...</td>\n    </tr>\n    <tr>\n      <th>1</th>\n      <td>1.508990</td>\n      <td>1</td>\n      <td>2,133 km</td>\n      <td>21 hours 16 mins</td>\n      <td>21000 Dijon, France</td>\n      <td>Plovdiv, Bulgaria</td>\n      <td>cxy_Hkrw]zyFm~Lj}Gyy\\zrIofLjtKyuJ~yVqwS~oQcoN`...</td>\n    </tr>\n    <tr>\n      <th>2</th>\n      <td>0.177672</td>\n      <td>2</td>\n      <td>909 km</td>\n      <td>10 hours 49 mins</td>\n      <td>79 Freiburg im Breisgau, Germany</td>\n      <td>Turin, Metropolitan City of Turin, Italy</td>\n      <td>{y}cH_qzn@na@rw@tVuvA`QuhCjwAqjLlRksFz`AkuA|~A...</td>\n    </tr>\n    <tr>\n      <th>3</th>\n      <td>0.150106</td>\n      <td>2</td>\n      <td>821 km</td>\n      <td>9 hours 32 mins</td>\n      <td>78224 Singen, Germany</td>\n      <td>Turin, Metropolitan City of Turin, Italy</td>\n      <td>qtobHmd}t@}w@`b@oTgSsFzt@maAoN{lAaeB_hAmeCgvAo...</td>\n    </tr>\n    <tr>\n      <th>4</th>\n      <td>0.177851</td>\n      <td>2</td>\n      <td>641 km</td>\n      <td>7 hours 5 mins</td>\n      <td>78224 Singen, Germany</td>\n      <td>Annecy, France</td>\n      <td>qtobHmd}t@}w@`b@oTgSsFzt@maAoN{lAaeB_m@gv@kq@r...</td>\n    </tr>\n    <tr>\n      <th>5</th>\n      <td>1.137354</td>\n      <td>1</td>\n      <td>522 km</td>\n      <td>5 hours 57 mins</td>\n      <td>28100 Novara, Province of Novara, Italy</td>\n      <td>25000 Besançon, France</td>\n      <td>_jktGo_ss@Kal@_Wj]_HlImHhTeXbj@dAdR|Ydl@s~AvqA...</td>\n    </tr>\n    <tr>\n      <th>6</th>\n      <td>1.435634</td>\n      <td>1</td>\n      <td>1,063 km</td>\n      <td>11 hours 24 mins</td>\n      <td>France</td>\n      <td>Innsbruck, Austria</td>\n      <td>avcyGg}oLmTanAbHow@~oCqAjn@uGjAqiAslCarGkoDauI...</td>\n    </tr>\n    <tr>\n      <th>7</th>\n      <td>0.282136</td>\n      <td>2</td>\n      <td>1,670 km</td>\n      <td>17 hours 36 mins</td>\n      <td>Sarajevo, Bosnia and Herzegovina</td>\n      <td>25000 Besançon, France</td>\n      <td>yttjG}hkoBanGj_Jwt@|gEonGlsLoaEhmCslAdcGwyBvaI...</td>\n    </tr>\n    <tr>\n      <th>8</th>\n      <td>1.659750</td>\n      <td>1</td>\n      <td>1,158 km</td>\n      <td>11 hours 35 mins</td>\n      <td>Munich, Germany</td>\n      <td>Marseille, France</td>\n      <td>ilxdHgcueA{mCaiCyzCdSgeFs|D{v@nhG~f@lkLhoB~sMk...</td>\n    </tr>\n    <tr>\n      <th>9</th>\n      <td>2.563380</td>\n      <td>1</td>\n      <td>4,307 km</td>\n      <td>1 day 21 hours</td>\n      <td>Tallinn, Estonia</td>\n      <td>Lisbon, Portugal</td>\n      <td>iwwiJsvavCvwP`yX|~ZpfWbdYjaHzc}@pmDb`\\}jPp_Na{...</td>\n    </tr>\n    <tr>\n      <th>10</th>\n      <td>0.218716</td>\n      <td>2</td>\n      <td>1,323 km</td>\n      <td>14 hours 48 mins</td>\n      <td>Amsterdam, Netherlands</td>\n      <td>Milan, Metropolitan City of Milan, Italy</td>\n      <td>q`s~H{y|\\jvBi|BnPgpEvbDmpXhyAwmMvgFuyFnoEgjEpd...</td>\n    </tr>\n    <tr>\n      <th>11</th>\n      <td>3.300613</td>\n      <td>1</td>\n      <td>5,068 km</td>\n      <td>2 days 6 hours</td>\n      <td>Málaga, Spain</td>\n      <td>99830 Saariselkä, Finland</td>\n      <td>}bc_F~h~YeeUd}Du~`@gxJgj]yrk@wfDsjw@ufIa_j@_}d...</td>\n    </tr>\n  </tbody>\n</table>\n</div>"
     },
     "execution_count": 3,
     "metadata": {},
     "output_type": "execute_result"
    }
   ],
   "source": [
    "from numpy import int8\n",
    "\n",
    "df = pd.read_json(results_path)\n",
    "df = df[[\"total_calculation_time\", \"total_requests\", \"distance\", \"duration\", \"start_address\", \"end_address\", \"polyline\"]]\n",
    "clear_df = df.copy()\n",
    "clear_df[\"total_requests\"] = clear_df[\"total_requests\"].diff()\n",
    "clear_df[\"total_requests\"].iloc[[0]] = df[\"total_requests\"].iloc[[0]]\n",
    "clear_df[\"total_requests\"] = clear_df[\"total_requests\"].astype(int8)\n",
    "clear_df"
   ],
   "metadata": {
    "collapsed": false,
    "ExecuteTime": {
     "end_time": "2024-02-08T08:43:14.362560500Z",
     "start_time": "2024-02-08T08:43:14.255589800Z"
    }
   },
   "id": "d812a5f9731315f2",
   "execution_count": 3
  },
  {
   "cell_type": "code",
   "outputs": [],
   "source": [],
   "metadata": {
    "collapsed": false
   },
   "id": "fa633b8dea9b7569"
  }
 ],
 "metadata": {
  "kernelspec": {
   "display_name": "Python 3",
   "language": "python",
   "name": "python3"
  },
  "language_info": {
   "codemirror_mode": {
    "name": "ipython",
    "version": 2
   },
   "file_extension": ".py",
   "mimetype": "text/x-python",
   "name": "python",
   "nbconvert_exporter": "python",
   "pygments_lexer": "ipython2",
   "version": "2.7.6"
  }
 },
 "nbformat": 4,
 "nbformat_minor": 5
}
